{
 "cells": [
  {
   "cell_type": "markdown",
   "id": "3dcd7f0b",
   "metadata": {},
   "source": [
    "# Selecting the right bandwidth\n",
    "\n",
    "In this problem we will try out band-width selection in two steps. "
   ]
  },
  {
   "cell_type": "code",
   "execution_count": 1,
   "id": "363c18a2",
   "metadata": {
    "ExecuteTime": {
     "end_time": "2023-03-07T23:47:05.115583Z",
     "start_time": "2023-03-07T23:47:02.900960Z"
    }
   },
   "outputs": [],
   "source": [
    "import numpy as np\n",
    "import matplotlib.pyplot as plt\n",
    "from astropy.table import Table\n",
    "from sklearn.model_selection import train_test_split\n",
    "from sklearn.model_selection import KFold\n",
    "from sklearn.neighbors import KernelDensity"
   ]
  },
  {
   "cell_type": "code",
   "execution_count": 9,
   "id": "080dad48",
   "metadata": {
    "ExecuteTime": {
     "end_time": "2023-03-07T23:48:01.761766Z",
     "start_time": "2023-03-07T23:48:01.758441Z"
    }
   },
   "outputs": [],
   "source": [
    "def read_bh_masses():\n",
    "    \"\"\"\n",
    "    Read in black hole masses from CSV file\n",
    "    \"\"\"\n",
    "    \n",
    "    # You might need to update this\n",
    "    fname = '../../../Datafiles/joint-bh-mass-table.csv'\n",
    "    t = Table().read(fname)\n",
    "    return t"
   ]
  },
  {
   "cell_type": "code",
   "execution_count": 10,
   "id": "b7c5aa5f",
   "metadata": {
    "ExecuteTime": {
     "end_time": "2023-03-07T23:48:02.154879Z",
     "start_time": "2023-03-07T23:48:02.148450Z"
    }
   },
   "outputs": [],
   "source": [
    "t_bh = read_bh_masses()#"
   ]
  },
  {
   "cell_type": "code",
   "execution_count": 44,
   "id": "cf2cd8a1",
   "metadata": {
    "ExecuteTime": {
     "end_time": "2023-03-08T00:05:49.428016Z",
     "start_time": "2023-03-08T00:05:49.418131Z"
    }
   },
   "outputs": [],
   "source": [
    "def show_one_bandwidth(t, bw, what='MBH', xmin=0, xmax=70):\n",
    "    \"\"\"\n",
    "    Show the KDE estimate of the masses with one band-width\n",
    "    \"\"\"\n",
    "    \n",
    "    X = t[what][:, np.newaxis]\n",
    "    kde = KernelDensity(bandwidth=bw, kernel='gaussian').fit(X)\n",
    "    \n",
    "    xgrid = np.linspace(xmin, xmax, 200)\n",
    "    ln_p_bh = kde.score_samples(xgrid[:, np.newaxis])\n",
    "    p_bh = np.exp(ln_p_bh)\n",
    "    \n",
    "    h = plt.hist(t[what], density=True)\n",
    "    plt.plot(xgrid, p_bh)\n",
    "    plt.title(\"Bandwidth={0}\".format(bw))\n",
    "    plt.xlabel(r'$M_{BH}$')\n",
    "    plt.ylabel(r'$P(M_{BH})$')\n",
    "    \n",
    "    return kde\n",
    "\n",
    "def score_one_bandwidth(t, bw, kernel='gaussian'):\n",
    "    \"\"\"\n",
    "    Fit a KDE and get its score on the fitted sample.\n",
    "    \n",
    "    It returns the log likelihood of the data.\n",
    "    \"\"\"\n",
    "    X = t['MBH'][:, np.newaxis]\n",
    "    kde = KernelDensity(bandwidth=bw, kernel=kernel).fit(X)\n",
    "    score = kde.score(X)\n",
    "    \n",
    "    return score\n",
    "\n",
    "def score_many_bandwidths(t, kernel='gaussian', bws=None):\n",
    "    \"\"\"\n",
    "    Fit many bandwidths\n",
    "    \"\"\"\n",
    "    if bws is None:\n",
    "        bws = np.linspace(1, 7.0, 100)\n",
    "        \n",
    "    scores = np.zeros_like(bws)\n",
    "    for i, bw in enumerate(bws):\n",
    "        scores[i] = score_one_bandwidth(t, bw, kernel=kernel)\n",
    "    \n",
    "    return bws, scores\n",
    "    "
   ]
  },
  {
   "cell_type": "code",
   "execution_count": 16,
   "id": "ea23d93a",
   "metadata": {
    "ExecuteTime": {
     "end_time": "2023-03-07T23:55:51.052607Z",
     "start_time": "2023-03-07T23:55:51.049878Z"
    }
   },
   "outputs": [],
   "source": [
    "MBH = t_bh['MBH']"
   ]
  },
  {
   "cell_type": "code",
   "execution_count": 22,
   "id": "82eb0f86",
   "metadata": {
    "ExecuteTime": {
     "end_time": "2023-03-08T00:00:55.388858Z",
     "start_time": "2023-03-08T00:00:55.337481Z"
    }
   },
   "outputs": [],
   "source": [
    "bws, scores  = score_many_bandwidths(t_bh)"
   ]
  },
  {
   "cell_type": "code",
   "execution_count": 23,
   "id": "d8ed1149",
   "metadata": {
    "ExecuteTime": {
     "end_time": "2023-03-08T00:00:56.362413Z",
     "start_time": "2023-03-08T00:00:56.218446Z"
    }
   },
   "outputs": [
    {
     "data": {
      "text/plain": [
       "[<matplotlib.lines.Line2D at 0x7fe9707b5da0>]"
      ]
     },
     "execution_count": 23,
     "metadata": {},
     "output_type": "execute_result"
    },
    {
     "data": {
      "image/png": "[encoded data removed]",
      "text/plain": [
       "<Figure size 432x288 with 1 Axes>"
      ]
     },
     "metadata": {
      "needs_background": "light"
     },
     "output_type": "display_data"
    }
   ],
   "source": [
    "plt.plot(bws, scores)"
   ]
  },
  {
   "cell_type": "markdown",
   "id": "2964ee89",
   "metadata": {},
   "source": [
    "## Implement k-fold CV next."
   ]
  },
  {
   "cell_type": "code",
   "execution_count": 25,
   "id": "40010c83",
   "metadata": {
    "ExecuteTime": {
     "end_time": "2023-03-08T00:01:20.821894Z",
     "start_time": "2023-03-08T00:01:20.818812Z"
    }
   },
   "outputs": [],
   "source": [
    "# I will do N-fold CV here. This divides X into N_folds\n",
    "n_splits = 10\n",
    "kf = KFold(n_splits=n_splits)\n",
    "lnP = 0.0"
   ]
  },
  {
   "cell_type": "code",
   "execution_count": 27,
   "id": "d9e9e392",
   "metadata": {
    "ExecuteTime": {
     "end_time": "2023-03-08T00:01:56.270835Z",
     "start_time": "2023-03-08T00:01:56.260627Z"
    }
   },
   "outputs": [],
   "source": [
    "for train, test in kf.split(X):\n",
    "    x_train = X[train, :]\n",
    "    x_test = X[test, :]\n",
    "\n",
    "    kde = KernelDensity(kernel='gaussian', bandwidth=2).fit(x_train)\n",
    "    log_prob = kde.score(x_test)\n",
    "    lnP += log_prob"
   ]
  },
  {
   "cell_type": "code",
   "execution_count": 28,
   "id": "a8f3693e",
   "metadata": {
    "ExecuteTime": {
     "end_time": "2023-03-08T00:02:06.536240Z",
     "start_time": "2023-03-08T00:02:06.532000Z"
    }
   },
   "outputs": [
    {
     "data": {
      "text/plain": [
       "-158.91584311143546"
      ]
     },
     "execution_count": 28,
     "metadata": {},
     "output_type": "execute_result"
    }
   ],
   "source": [
    "lnP"
   ]
  },
  {
   "cell_type": "code",
   "execution_count": 35,
   "id": "3e62bc56",
   "metadata": {
    "ExecuteTime": {
     "end_time": "2023-03-08T00:04:12.061813Z",
     "start_time": "2023-03-08T00:04:12.055589Z"
    }
   },
   "outputs": [],
   "source": [
    "def many_kfolds(t, bws=None):\n",
    "    if bws is None:\n",
    "        bws = np.linspace(1, 7.0, 100)\n",
    "        \n",
    "    scores = np.zeros_like(bws)\n",
    "    lnPs = np.zeros_like(bws)\n",
    "    for i, bw in enumerate(bws):\n",
    "    \n",
    "        lnP = 0.0\n",
    "        for train, test in kf.split(X):\n",
    "            x_train = X[train, :]\n",
    "            x_test = X[test, :]\n",
    "\n",
    "            kde = KernelDensity(kernel='gaussian', bandwidth=bw).fit(x_train)\n",
    "            log_prob = kde.score(x_test)\n",
    "            lnP += log_prob\n",
    "            \n",
    "        lnPs[i] = lnP\n",
    "        \n",
    "    return bws, lnPs"
   ]
  },
  {
   "cell_type": "code",
   "execution_count": 36,
   "id": "4eb73865",
   "metadata": {
    "ExecuteTime": {
     "end_time": "2023-03-08T00:04:12.893248Z",
     "start_time": "2023-03-08T00:04:12.543262Z"
    }
   },
   "outputs": [],
   "source": [
    "bws, lnPs = many_kfolds(t_bh)"
   ]
  },
  {
   "cell_type": "code",
   "execution_count": 37,
   "id": "89a29358",
   "metadata": {
    "ExecuteTime": {
     "end_time": "2023-03-08T00:04:13.143164Z",
     "start_time": "2023-03-08T00:04:13.022175Z"
    }
   },
   "outputs": [
    {
     "data": {
      "text/plain": [
       "[<matplotlib.lines.Line2D at 0x7fe9600a3b70>]"
      ]
     },
     "execution_count": 37,
     "metadata": {},
     "output_type": "execute_result"
    },
    {
     "data": {
      "image/png": "[encoded data removed]",
      "text/plain": [
       "<Figure size 432x288 with 1 Axes>"
      ]
     },
     "metadata": {
      "needs_background": "light"
     },
     "output_type": "display_data"
    }
   ],
   "source": [
    "plt.plot(bws, lnPs)"
   ]
  },
  {
   "cell_type": "code",
   "execution_count": 38,
   "id": "3c570203",
   "metadata": {
    "ExecuteTime": {
     "end_time": "2023-03-08T00:04:42.180307Z",
     "start_time": "2023-03-08T00:04:42.176005Z"
    }
   },
   "outputs": [
    {
     "data": {
      "text/plain": [
       "49"
      ]
     },
     "execution_count": 38,
     "metadata": {},
     "output_type": "execute_result"
    }
   ],
   "source": [
    "np.argmax(lnPs)"
   ]
  },
  {
   "cell_type": "code",
   "execution_count": 39,
   "id": "4789f157",
   "metadata": {
    "ExecuteTime": {
     "end_time": "2023-03-08T00:04:46.024655Z",
     "start_time": "2023-03-08T00:04:46.021365Z"
    }
   },
   "outputs": [
    {
     "data": {
      "text/plain": [
       "3.9696969696969697"
      ]
     },
     "execution_count": 39,
     "metadata": {},
     "output_type": "execute_result"
    }
   ],
   "source": [
    "bws[49]"
   ]
  },
  {
   "cell_type": "code",
   "execution_count": 45,
   "id": "17a76d14",
   "metadata": {
    "ExecuteTime": {
     "end_time": "2023-03-08T00:05:54.317581Z",
     "start_time": "2023-03-08T00:05:54.130533Z"
    }
   },
   "outputs": [
    {
     "data": {
      "text/plain": [
       "KernelDensity(bandwidth=3.9696969696969697)"
      ]
     },
     "execution_count": 45,
     "metadata": {},
     "output_type": "execute_result"
    },
    {
     "data": {
      "image/png": "[encoded data removed]",
      "text/plain": [
       "<Figure size 432x288 with 1 Axes>"
      ]
     },
     "metadata": {
      "needs_background": "light"
     },
     "output_type": "display_data"
    }
   ],
   "source": [
    "show_one_bandwidth(t_bh, bws[49], what='MBH', xmin=0, xmax=70)"
   ]
  },
  {
   "cell_type": "code",
   "execution_count": null,
   "id": "bcfa5cf4",
   "metadata": {},
   "outputs": [],
   "source": []
  }
 ],
 "metadata": {
  "kernelspec": {
   "display_name": "Python 3",
   "language": "python",
   "name": "python3"
  },
  "language_info": {
   "codemirror_mode": {
    "name": "ipython",
    "version": 3
   },
   "file_extension": ".py",
   "mimetype": "text/x-python",
   "name": "python",
   "nbconvert_exporter": "python",
   "pygments_lexer": "ipython3",
   "version": "3.6.13"
  },
  "varInspector": {
   "cols": {
    "lenName": 16,
    "lenType": 16,
    "lenVar": 40
   },
   "kernels_config": {
    "python": {
     "delete_cmd_postfix": "",
     "delete_cmd_prefix": "del ",
     "library": "var_list.py",
     "varRefreshCmd": "print(var_dic_list())"
    },
    "r": {
     "delete_cmd_postfix": ") ",
     "delete_cmd_prefix": "rm(",
     "library": "var_list.r",
     "varRefreshCmd": "cat(var_dic_list()) "
    }
   },
   "types_to_exclude": [
    "module",
    "function",
    "builtin_function_or_method",
    "instance",
    "_Feature"
   ],
   "window_display": false
  }
 },
 "nbformat": 4,
 "nbformat_minor": 5
}
