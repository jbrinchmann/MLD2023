{
 "cells": [
  {
   "cell_type": "markdown",
   "id": "b2d37518",
   "metadata": {},
   "source": [
    "# Selecting the right bandwidth\n",
    "\n",
    "In this problem we will try out band-width selection in two steps. "
   ]
  },
  {
   "cell_type": "code",
   "execution_count": 1,
   "id": "7830ba02",
   "metadata": {
    "ExecuteTime": {
     "end_time": "2023-03-07T23:47:05.115583Z",
     "start_time": "2023-03-07T23:47:02.900960Z"
    }
   },
   "outputs": [],
   "source": [
    "import numpy as np\n",
    "import matplotlib.pyplot as plt\n",
    "from astropy.table import Table\n",
    "from sklearn.model_selection import train_test_split\n",
    "from sklearn.model_selection import KFold\n",
    "from sklearn.neighbors import KernelDensity"
   ]
  },
  {
   "cell_type": "code",
   "execution_count": 9,
   "id": "7fd465f3",
   "metadata": {
    "ExecuteTime": {
     "end_time": "2023-03-07T23:48:01.761766Z",
     "start_time": "2023-03-07T23:48:01.758441Z"
    }
   },
   "outputs": [],
   "source": [
    "def read_bh_masses():\n",
    "    \"\"\"\n",
    "    Read in black hole masses from CSV file\n",
    "    \"\"\"\n",
    "    \n",
    "    # You might need to update this\n",
    "    fname = '../../../Datafiles/joint-bh-mass-table.csv'\n",
    "    t = Table().read(fname)\n",
    "    return t"
   ]
  },
  {
   "cell_type": "code",
   "execution_count": 10,
   "id": "72d25399",
   "metadata": {
    "ExecuteTime": {
     "end_time": "2023-03-07T23:48:02.154879Z",
     "start_time": "2023-03-07T23:48:02.148450Z"
    }
   },
   "outputs": [],
   "source": [
    "t_bh = read_bh_masses()#"
   ]
  },
  {
   "cell_type": "code",
   "execution_count": 11,
   "id": "40a5b6ea",
   "metadata": {
    "ExecuteTime": {
     "end_time": "2023-03-07T23:48:04.064527Z",
     "start_time": "2023-03-07T23:48:04.054481Z"
    }
   },
   "outputs": [],
   "source": [
    "def show_one_bandwidth(t, bw, what='MBH', xmin=0, xmax=70):\n",
    "    \"\"\"\n",
    "    Show the KDE estimate of the masses with one band-width\n",
    "    \"\"\"\n",
    "    \n",
    "    X = t[what][:, np.newaxis]\n",
    "    kde = KernelDensity(bandwidth=bw, kernel='gaussian').fit(X)\n",
    "    \n",
    "    xgrid = np.linspace(xmin, xmax, 200)\n",
    "    ln_p_bh = kde.score_samples(xgrid[:, np.newaxis])\n",
    "    p_bh = np.exp(ln_p_bh)\n",
    "    \n",
    "    h = plt.hist(t[what], normed='area')\n",
    "    plt.plot(xgrid, p_bh)\n",
    "    plt.title(\"Bandwidth={0}\".format(bw))\n",
    "    plt.xlabel(r'$M_{BH}$')\n",
    "    plt.ylabel(r'$P(M_{BH})$')\n",
    "    \n",
    "    return kde\n",
    "\n",
    "def score_one_bandwidth(t, bw, kernel='gaussian'):\n",
    "    \"\"\"\n",
    "    Fit a KDE and get its score on the fitted sample.\n",
    "    \n",
    "    It returns the log likelihood of the data.\n",
    "    \"\"\"\n",
    "    X = t['MBH'][:, np.newaxis]\n",
    "    kde = KernelDensity(bandwidth=bw, kernel=kernel).fit(X)\n",
    "    score = kde.score(X)\n",
    "    \n",
    "    return score\n",
    "\n",
    "def score_many_bandwidths(t, kernel='gaussian', bws=None):\n",
    "    \"\"\"\n",
    "    Fit many bandwidths\n",
    "    \"\"\"\n",
    "    if bws is None:\n",
    "        bws = np.linspace(1, 7.0, 100)\n",
    "        \n",
    "    scores = np.zeros_like(bws)\n",
    "    for i, bw in enumerate(bws):\n",
    "        scores[i] = score_one_bandwidth(t, bw, kernel=kernel)\n",
    "    \n",
    "    return bws, scores\n",
    "    "
   ]
  },
  {
   "cell_type": "markdown",
   "id": "51c54b42",
   "metadata": {},
   "source": [
    "## Implement k-fold CV next."
   ]
  },
  {
   "cell_type": "code",
   "execution_count": null,
   "id": "39268ef4",
   "metadata": {},
   "outputs": [],
   "source": []
  }
 ],
 "metadata": {
  "kernelspec": {
   "display_name": "Python 3",
   "language": "python",
   "name": "python3"
  },
  "language_info": {
   "codemirror_mode": {
    "name": "ipython",
    "version": 3
   },
   "file_extension": ".py",
   "mimetype": "text/x-python",
   "name": "python",
   "nbconvert_exporter": "python",
   "pygments_lexer": "ipython3",
   "version": "3.6.13"
  },
  "varInspector": {
   "cols": {
    "lenName": 16,
    "lenType": 16,
    "lenVar": 40
   },
   "kernels_config": {
    "python": {
     "delete_cmd_postfix": "",
     "delete_cmd_prefix": "del ",
     "library": "var_list.py",
     "varRefreshCmd": "print(var_dic_list())"
    },
    "r": {
     "delete_cmd_postfix": ") ",
     "delete_cmd_prefix": "rm(",
     "library": "var_list.r",
     "varRefreshCmd": "cat(var_dic_list()) "
    }
   },
   "types_to_exclude": [
    "module",
    "function",
    "builtin_function_or_method",
    "instance",
    "_Feature"
   ],
   "window_display": false
  }
 },
 "nbformat": 4,
 "nbformat_minor": 5
}
