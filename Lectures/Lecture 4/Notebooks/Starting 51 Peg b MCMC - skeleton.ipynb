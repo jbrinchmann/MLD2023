{
 "cells": [
  {
   "cell_type": "markdown",
   "id": "c1b7a2bf",
   "metadata": {},
   "source": [
    "# Estimating the mass of 51 Peg b\n",
    "\n",
    "The relationship between the amplitude, $k$, of the radial velocity, $v_R$ curve and the mass of the planet, assuming a circular orbit with period $P$ is given as:\n",
    "\n",
    "$$\n",
    "k = \\left(\\frac{2\\pi G}{P}\\right)^{1/3} \\,\\frac{M_P\\sin i}{\\left(M_P + M_\\star\\right)^{2/3}}\n",
    "$$\n",
    "\n",
    "We want to estimate $k$ and $P$ (in particular) from the following simple model for the radial velocity variation: \n",
    "$$\n",
    "v_R = k\\sin\\left(\\frac{2 \\pi (t-t_0)}{P}\\right) + v_0 = k\\sin\\left(2\\pi (f+f_0)\\right) + v_0\n",
    "$$\n",
    "where $f = t/P$. \n"
   ]
  },
  {
   "cell_type": "code",
   "execution_count": 1,
   "id": "b0060a19",
   "metadata": {},
   "outputs": [],
   "source": [
    "import numpy as np\n",
    "from matplotlib import pyplot as plt\n",
    "\n",
    "import emcee\n",
    "import corner"
   ]
  },
  {
   "cell_type": "code",
   "execution_count": 5,
   "id": "44d6347c",
   "metadata": {},
   "outputs": [],
   "source": [
    "# You might find these constants useful\n",
    "#constants\n",
    "G=6.674*1e-11   #m^3*s^-2*kg^-1\n",
    "Mjupiter=1.898*1e27   #kg\n",
    "Msun=1.989*1e30    #kg\n",
    "Mearth=5.972*1e24    #kg"
   ]
  },
  {
   "cell_type": "code",
   "execution_count": 2,
   "id": "9b405dbd",
   "metadata": {},
   "outputs": [],
   "source": [
    "def load_mq95():\n",
    "    \"\"\"\n",
    "    Load the file from Mayor & Queloz 1995.\n",
    "    \n",
    "    It returns a dict with time in days as key t, velocity in\n",
    "    m/s as vr and uncertainty on vr in dvr.\n",
    "    \"\"\"\n",
    "\n",
    "    fname = '../../../Datafiles/51Peg mayorqueloz95.dat'\n",
    "    \n",
    "    t, vr, dvr = np.loadtxt(fname, unpack=True)\n",
    "\n",
    "    return {'t': t, 'vr': vr, 'dvr': dvr}\n"
   ]
  },
  {
   "cell_type": "code",
   "execution_count": 37,
   "id": "4037cfdd",
   "metadata": {},
   "outputs": [],
   "source": [
    "def radial_velocity(t, P, k, f0, v0):\n",
    "    \"\"\"Estimate the radial velocity for given inputs\n",
    "    \n",
    "    Parameters:\n",
    "    -----------\n",
    "    t : float\n",
    "      Time in seconds\n",
    "    P : float\n",
    "      Period in days\n",
    "    k : float\n",
    "      Velocity amplitude in m/s\n",
    "    v0 : float\n",
    "      Velocity offset in m/s\n",
    "      \n",
    "    Output: \n",
    "    -------\n",
    "    vr : float\n",
    "      Radial velocity in m/s\n",
    "    \"\"\"\n",
    "\n",
    "    P_sec = P*24*3600\n",
    "    f = t/P_sec\n",
    "    v_rad = k*np.sin(2.0*np.pi*(f-f0))+v0\n",
    "\n",
    "    return v_rad"
   ]
  },
  {
   "cell_type": "code",
   "execution_count": 38,
   "id": "15bbf215",
   "metadata": {},
   "outputs": [],
   "source": [
    "# The likelihood\n",
    "def lnL(theta, x, y, yerr):\n",
    "\n",
    "    P, k, f0, v0 = theta\n",
    "    \n",
    "    # FILL IN LIKELIHOOD\n",
    "    \n",
    "    return \n",
    "    \n",
    "# The prior\n",
    "def lnprior(theta):\n",
    "\n",
    "    P, k, f0, v0 = theta\n",
    "    \n",
    "    # FILL IN THE PRIOR - plot the data to determine reasonable values - \n",
    "    # I am assuming here that you want uniform (flat) priors on all \n",
    "    if ?? < P < ?? and ?? < k < ?? and ?? < f0 < ?? and ?? < v0 < ??:\n",
    "        return 0.0\n",
    "        \n",
    "    return -np.inf\n",
    "\n",
    "\n",
    "# The posterior - already filled in\n",
    "def lnprob(theta, x, y, yerr):\n",
    "\n",
    "    lp = lnprior(theta)\n",
    "    if not np.isfinite(lp):\n",
    "        return -np.inf\n",
    "    return lp + lnL(theta, x, y, yerr)\n"
   ]
  },
  {
   "cell_type": "markdown",
   "id": "8a25caed",
   "metadata": {},
   "source": [
    "## Set up the starting positions\n",
    "\n",
    "This is fairly standard"
   ]
  },
  {
   "cell_type": "code",
   "execution_count": 42,
   "id": "90253e8c",
   "metadata": {},
   "outputs": [],
   "source": [
    "\n",
    "P_guess = ?? # Days\n",
    "k_guess = ??\n",
    "v0_guess = ??\n",
    "f0_guess = ??\n",
    "theta_initial = np.array([P_guess, k_guess, f0_guess, v0_guess])\n",
    "\n",
    "\n",
    "ndim, nwalkers = 4, 100\n",
    "pos=[theta_initial + 1e-2*np.random.randn(ndim) for i in range(nwalkers)]\n",
    "\n"
   ]
  },
  {
   "cell_type": "markdown",
   "id": "a646ee3b",
   "metadata": {},
   "source": [
    "## Get the data"
   ]
  },
  {
   "cell_type": "code",
   "execution_count": null,
   "id": "7d336678",
   "metadata": {},
   "outputs": [],
   "source": [
    "data = load_mq95()\n",
    "t_days = data['t'] # days\n",
    "t = t_days*24*3600\n",
    "vr = data['vr']\n",
    "dvr = data['dvr']"
   ]
  },
  {
   "cell_type": "markdown",
   "id": "08a48af9",
   "metadata": {},
   "source": [
    "## Run the emcee sampler\n",
    "\n",
    "The number of steps is up to you - a few thousand is probably a good idea"
   ]
  },
  {
   "cell_type": "code",
   "execution_count": 46,
   "id": "5976bd69",
   "metadata": {},
   "outputs": [],
   "source": [
    "sampler = emcee.EnsembleSampler(nwalkers, ndim, lnprob, args=(t, vr, dvr))\n",
    "tmp = sampler.run_mcmc(pos, ???)"
   ]
  },
  {
   "cell_type": "markdown",
   "id": "6c23e82b",
   "metadata": {},
   "source": [
    "## Look at the chains\n",
    "\n",
    "Here is one possible way to do this - for your convenience"
   ]
  },
  {
   "cell_type": "code",
   "execution_count": null,
   "id": "1da2bc75",
   "metadata": {},
   "outputs": [],
   "source": [
    "fig, axes = plt.subplots(ncols=1, nrows=4, sharex=True)\n",
    "\n",
    "labels = [\"$P$\", \"$k$\", \"$f_0$\", \"$v_0$\"]\n",
    "for i in range(4):\n",
    "    axes[i].plot(sampler.chain[:, :, i].transpose(), color='black', alpha=0.3)\n",
    "    axes[i].set_ylabel(labels[i])\n"
   ]
  },
  {
   "cell_type": "code",
   "execution_count": 48,
   "id": "be2bf415",
   "metadata": {},
   "outputs": [],
   "source": [
    "# What burn-in do you want to remove?\n",
    "n_burn = ???"
   ]
  },
  {
   "cell_type": "code",
   "execution_count": 49,
   "id": "8a763d70",
   "metadata": {},
   "outputs": [],
   "source": [
    "samples = sampler.chain[:, n_burn:, :].reshape((-1, 4))"
   ]
  },
  {
   "cell_type": "markdown",
   "id": "824d5487",
   "metadata": {},
   "source": [
    "## Create a corner plot"
   ]
  },
  {
   "cell_type": "code",
   "execution_count": null,
   "id": "8c9b8385",
   "metadata": {},
   "outputs": [],
   "source": [
    "fig = corner.corner(samples, labels=labels)"
   ]
  },
  {
   "cell_type": "markdown",
   "id": "21247273",
   "metadata": {},
   "source": [
    "## Do statistics on results"
   ]
  },
  {
   "cell_type": "code",
   "execution_count": 4,
   "id": "6f37c2d3",
   "metadata": {},
   "outputs": [],
   "source": [
    "# One example:\n",
    "median_P = np.percentile(samples[:, 0], [50.0])\n"
   ]
  },
  {
   "cell_type": "code",
   "execution_count": null,
   "id": "2220645e",
   "metadata": {},
   "outputs": [],
   "source": []
  }
 ],
 "metadata": {
  "kernelspec": {
   "display_name": "Python 3 (ipykernel)",
   "language": "python",
   "name": "python3"
  },
  "language_info": {
   "codemirror_mode": {
    "name": "ipython",
    "version": 3
   },
   "file_extension": ".py",
   "mimetype": "text/x-python",
   "name": "python",
   "nbconvert_exporter": "python",
   "pygments_lexer": "ipython3",
   "version": "3.10.9"
  }
 },
 "nbformat": 4,
 "nbformat_minor": 5
}
