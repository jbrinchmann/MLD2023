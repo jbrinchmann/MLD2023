{
 "cells": [
  {
   "cell_type": "code",
   "execution_count": 3,
   "metadata": {
    "ExecuteTime": {
     "end_time": "2019-04-11T09:46:45.191172Z",
     "start_time": "2019-04-11T09:46:45.186816Z"
    }
   },
   "outputs": [],
   "source": [
    "from __future__ import print_function\n",
    "\n",
    "from astroquery.vizier import Vizier\n",
    "import matplotlib.pyplot as plt\n",
    "import numpy as np\n",
    "\n",
    "%matplotlib inline"
   ]
  },
  {
   "cell_type": "markdown",
   "metadata": {},
   "source": [
    "# Problem 3\n",
    "\n",
    "This notebook solves problem 3 in the third problem set. We are here asked to do a PCA analysis of the fundamental plane of galaxies."
   ]
  },
  {
   "cell_type": "markdown",
   "metadata": {},
   "source": [
    "## 3a) Load the table(s)\n",
    "\n",
    "We want the SMAC. III. Fundamental Plane catalog from Hudson et al (2001). Let us try to find this."
   ]
  },
  {
   "cell_type": "code",
   "execution_count": 24,
   "metadata": {
    "ExecuteTime": {
     "end_time": "2019-04-11T10:12:27.873607Z",
     "start_time": "2019-04-11T10:12:27.858734Z"
    }
   },
   "outputs": [],
   "source": [
    "catalog_list = Vizier.find_catalogs('SMAC. III. Fundamental Plane')"
   ]
  },
  {
   "cell_type": "code",
   "execution_count": 5,
   "metadata": {
    "ExecuteTime": {
     "end_time": "2019-04-11T09:46:46.142149Z",
     "start_time": "2019-04-11T09:46:46.137960Z"
    }
   },
   "outputs": [
    {
     "name": "stdout",
     "output_type": "stream",
     "text": [
      "J/MNRAS/327/249: SMAC. II. Fundamental Plane photometric data (Smith+, 2001)\n",
      "J/MNRAS/327/265: SMAC. III. Fundamental Plane catalog (Hudson+, 2001)\n"
     ]
    }
   ],
   "source": [
    "for k,v in catalog_list.items():\n",
    "    print(\"{0}: {1}\".format(k, v.description))\n"
   ]
  },
  {
   "cell_type": "markdown",
   "metadata": {},
   "source": [
    "So we clearly need the second one. But we need the full table"
   ]
  },
  {
   "cell_type": "code",
   "execution_count": 8,
   "metadata": {
    "ExecuteTime": {
     "end_time": "2019-04-11T09:47:14.175578Z",
     "start_time": "2019-04-11T09:47:14.172268Z"
    }
   },
   "outputs": [
    {
     "name": "stdout",
     "output_type": "stream",
     "text": [
      "I will load J/MNRAS/327/265\n"
     ]
    }
   ],
   "source": [
    "wanted = list(catalog_list.keys())[1]\n",
    "print(\"I will load {0}\".format(wanted))"
   ]
  },
  {
   "cell_type": "code",
   "execution_count": 42,
   "metadata": {
    "ExecuteTime": {
     "end_time": "2019-04-11T10:22:38.782549Z",
     "start_time": "2019-04-11T10:22:37.777304Z"
    }
   },
   "outputs": [],
   "source": [
    "# This ensures we get the whole catalog\n",
    "# See https://github.com/astropy/astroquery/issues/917\n",
    "v = Vizier(columns=[\"**\"], catalog=wanted, row_limit=-1)\n",
    "res = v.query_constraints(row_limit=-1)\n",
    "catalogs = v.get_catalogs(wanted)\n",
    "#        catalogs = Vizier(columns=[\"**\"], catalog=wanted, row_limit=-1).query_constraints()\n",
    "#\n",
    "#catalogs = Vizier.get_catalogs(wanted, columns='all')"
   ]
  },
  {
   "cell_type": "code",
   "execution_count": 43,
   "metadata": {
    "ExecuteTime": {
     "end_time": "2019-04-11T10:22:42.229169Z",
     "start_time": "2019-04-11T10:22:42.225792Z"
    }
   },
   "outputs": [
    {
     "data": {
      "text/plain": [
       "2"
      ]
     },
     "execution_count": 43,
     "metadata": {},
     "output_type": "execute_result"
    }
   ],
   "source": [
    "len(catalogs)"
   ]
  },
  {
   "cell_type": "markdown",
   "metadata": {},
   "source": [
    "ah, so we got two catalogues. That is fine. What we want is the second one given the information in the problem set."
   ]
  },
  {
   "cell_type": "code",
   "execution_count": 44,
   "metadata": {
    "ExecuteTime": {
     "end_time": "2019-04-11T10:22:51.804042Z",
     "start_time": "2019-04-11T10:22:51.801385Z"
    }
   },
   "outputs": [],
   "source": [
    "catalog = catalogs[1]"
   ]
  },
  {
   "cell_type": "markdown",
   "metadata": {},
   "source": [
    "## 3 b)\n",
    "\n",
    "*The relevant columns are `logRe` ($\\log R_e$), `__mu_e` ($\\log \\mu_e$) and logsigma ($\\log \\sigma$). There are\n",
    "many parametrisations of the fundamental plane. For concreteness we choose the one from\n",
    "Jørgensen, Franx \\& Kjærgard (1996, MNRAS, 280, 167): \n",
    "$$\\log R_e = 1.24 \\log \\sigma - 0.82 log I_e + \\mathrm{constant}$$.\n",
    "\n",
    "Does your data fit this relation? What is scatter in log re around this plane? [recall that\n",
    "$\\mu_e = -2.5 \\log I_e$]. All log's are to the base 10.*\n",
    "\n",
    "This basically asks us to plot the data and then to calculate the rms around this best fit. So let us for clarity define the relation as a function:"
   ]
  },
  {
   "cell_type": "code",
   "execution_count": 45,
   "metadata": {
    "ExecuteTime": {
     "end_time": "2019-04-11T10:22:53.036073Z",
     "start_time": "2019-04-11T10:22:53.032873Z"
    }
   },
   "outputs": [],
   "source": [
    "logsigma = catalog['logsigma']\n",
    "logRe = catalog['logRe']\n",
    "mu_e = catalog['__mu_e']"
   ]
  },
  {
   "cell_type": "code",
   "execution_count": 46,
   "metadata": {
    "ExecuteTime": {
     "end_time": "2019-04-11T10:22:54.923981Z",
     "start_time": "2019-04-11T10:22:54.920291Z"
    }
   },
   "outputs": [],
   "source": [
    "def jfk_plane(logsigma, mu_e, offset=0.0):\n",
    "    \"\"\"Return the Jørgensen, Franx & Kjærgard (1996) fundamental plane\"\"\"\n",
    "    \n",
    "    logIe = -mu_e/2.5\n",
    "    \n",
    "    logRe = 1.24*logsigma - 0.82*logIe + offset\n",
    "    \n",
    "    return logRe"
   ]
  },
  {
   "cell_type": "code",
   "execution_count": 47,
   "metadata": {
    "ExecuteTime": {
     "end_time": "2019-04-11T10:23:05.447026Z",
     "start_time": "2019-04-11T10:23:05.441967Z"
    }
   },
   "outputs": [],
   "source": [
    "logRe_nonorm = jfk_plane(logsigma, mu_e)"
   ]
  },
  {
   "cell_type": "markdown",
   "metadata": {},
   "source": [
    "First let us just plot the data and visually see that they lie on a straight line. I also make a fit to the line using LinearRegression."
   ]
  },
  {
   "cell_type": "code",
   "execution_count": 61,
   "metadata": {
    "ExecuteTime": {
     "end_time": "2019-04-11T10:40:26.409918Z",
     "start_time": "2019-04-11T10:40:26.404476Z"
    }
   },
   "outputs": [],
   "source": [
    "from sklearn.linear_model import LinearRegression\n",
    "\n",
    "model = LinearRegression(fit_intercept=True)\n",
    "res = model.fit(logRe_nonorm.reshape(-1, 1), logRe)\n",
    "\n",
    "xplot = np.linspace(8, 10.5, 20)\n",
    "logRe_lin = model.predict(xplot.reshape(-1, 1))"
   ]
  },
  {
   "cell_type": "code",
   "execution_count": 62,
   "metadata": {
    "ExecuteTime": {
     "end_time": "2019-04-11T10:40:38.670322Z",
     "start_time": "2019-04-11T10:40:38.524453Z"
    }
   },
   "outputs": [
    {
     "data": {
      "text/plain": [
       "[<matplotlib.lines.Line2D at 0x1a17cb7898>]"
      ]
     },
     "execution_count": 62,
     "metadata": {},
     "output_type": "execute_result"
    },
    {
     "data": {
      "image/png": "[encoded data removed]",
      "text/plain": [
       "<Figure size 432x288 with 1 Axes>"
      ]
     },
     "metadata": {
      "needs_background": "light"
     },
     "output_type": "display_data"
    }
   ],
   "source": [
    "plt.scatter(logRe_nonorm, logRe, marker='.', alpha=0.5)\n",
    "plt.plot(xplot, logRe_lin, color='red')"
   ]
  },
  {
   "cell_type": "markdown",
   "metadata": {},
   "source": [
    "So that is a decent fit. We can now get the best offset as well and calculate the scatter around the line."
   ]
  },
  {
   "cell_type": "code",
   "execution_count": 65,
   "metadata": {
    "ExecuteTime": {
     "end_time": "2019-04-11T10:41:35.086959Z",
     "start_time": "2019-04-11T10:41:35.083682Z"
    }
   },
   "outputs": [
    {
     "name": "stdout",
     "output_type": "stream",
     "text": [
      "The best offset=-6.985\n"
     ]
    }
   ],
   "source": [
    "best_offset = model.intercept_\n",
    "print(\"The best offset={0:.3f}\".format(best_offset))"
   ]
  },
  {
   "cell_type": "code",
   "execution_count": 67,
   "metadata": {
    "ExecuteTime": {
     "end_time": "2019-04-11T10:43:57.200042Z",
     "start_time": "2019-04-11T10:43:57.194783Z"
    }
   },
   "outputs": [
    {
     "name": "stdout",
     "output_type": "stream",
     "text": [
      "The scatter around the model is 0.185\n"
     ]
    }
   ],
   "source": [
    "scatter = np.std(logRe_nonorm-logRe)\n",
    "print(\"The scatter around the model is {0:.3f}\".format(scatter))"
   ]
  },
  {
   "cell_type": "markdown",
   "metadata": {},
   "source": [
    "## 3 c)\n",
    "\n",
    "*c) Carry out a PCA of these data. Which eigenvector should you choose to define the plane (recall that\n",
    "a plane is defined up to a constant by its normal vector).? Does your PCA solution match the one from\n",
    "Jørgensen et al? Calculate the spread in re around this plane - is it smaller or larger than the one found\n",
    "using the Jørgensen parametrisation?*\n",
    "\n",
    "So to do this it is worth thinking a bit and the logic here is that a logical way to define a plane is to think about "
   ]
  }
 ],
 "metadata": {
  "kernelspec": {
   "display_name": "Python 3",
   "language": "python",
   "name": "python3"
  },
  "language_info": {
   "codemirror_mode": {
    "name": "ipython",
    "version": 3
   },
   "file_extension": ".py",
   "mimetype": "text/x-python",
   "name": "python",
   "nbconvert_exporter": "python",
   "pygments_lexer": "ipython3",
   "version": "3.6.7"
  },
  "varInspector": {
   "cols": {
    "lenName": 16,
    "lenType": 16,
    "lenVar": 40
   },
   "kernels_config": {
    "python": {
     "delete_cmd_postfix": "",
     "delete_cmd_prefix": "del ",
     "library": "var_list.py",
     "varRefreshCmd": "print(var_dic_list())"
    },
    "r": {
     "delete_cmd_postfix": ") ",
     "delete_cmd_prefix": "rm(",
     "library": "var_list.r",
     "varRefreshCmd": "cat(var_dic_list()) "
    }
   },
   "types_to_exclude": [
    "module",
    "function",
    "builtin_function_or_method",
    "instance",
    "_Feature"
   ],
   "window_display": false
  }
 },
 "nbformat": 4,
 "nbformat_minor": 1
}
